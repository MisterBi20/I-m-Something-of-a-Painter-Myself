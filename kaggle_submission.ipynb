{
  "cells": [
    {
      "cell_type": "markdown",
      "metadata": {},
      "source": [
        "# Kaggle GAN Getting Started - Submission Notebook\n",
        "\n",
        "This notebook generates Monet-style images for the competition.\n",
        "\n",
        "## Instructions:\n",
        "1. Upload your trained model to Kaggle Dataset\n",
        "2. Modify the MODEL_PATH variable below\n",
        "3. Run all cells\n",
        "4. Download the generated images.zip\n"
      ]
    },
    {
      "cell_type": "code",
      "execution_count": null,
      "metadata": {},
      "outputs": [],
      "source": [
        "# Import required libraries\n",
        "import numpy as np\n",
        "import pandas as pd\n",
        "import tensorflow as tf\n",
        "import os\n",
        "import re\n",
        "from tqdm import tqdm\n",
        "import PIL\n",
        "import shutil\n",
        "\n",
        "# Configuration\n",
        "print(f\"TensorFlow version: {tf.__version__}\")\n",
        "print(f\"GPU Available: {tf.config.list_physical_devices('GPU')}\")\n"
      ]
    },
    {
      "cell_type": "markdown",
      "metadata": {},
      "source": [
        "## Configuration\n",
        "\n",
        "**IMPORTANT**: Change MODEL_PATH to your trained model path!\n"
      ]
    },
    {
      "cell_type": "code",
      "execution_count": null,
      "metadata": {},
      "outputs": [],
      "source": [
        "# ===== CHANGE THIS TO YOUR MODEL PATH =====\n",
        "MODEL_PATH = \"../input/your-model-path/checkpoints/model_m_gen\"\n",
        "# =========================================\n",
        "\n",
        "# Image parameters\n",
        "HEIGHT, WIDTH, CHANNELS = 256, 256, 3\n",
        "AUTO = tf.data.experimental.AUTOTUNE\n",
        "\n",
        "print(f\"Model path: {MODEL_PATH}\")\n"
      ]
    },
    {
      "cell_type": "markdown",
      "metadata": {},
      "source": [
        "## Helper Functions\n"
      ]
    },
    {
      "cell_type": "code",
      "execution_count": null,
      "metadata": {},
      "outputs": [],
      "source": [
        "def count_data_items(filenames):\n",
        "    \"\"\"Count number of data items in TFRecord files\"\"\"\n",
        "    n = [int(re.compile(r\"-([0-9]*)\\.\").search(filename).group(1)) for filename in filenames]\n",
        "    return np.sum(n)\n",
        "\n",
        "\n",
        "def decode_image(image):\n",
        "    \"\"\"Decode JPEG image and normalize to [-1, 1]\"\"\"\n",
        "    image = tf.image.decode_jpeg(image, channels=CHANNELS)\n",
        "    image = (tf.cast(image, tf.float32) / 127.5) - 1\n",
        "    image = tf.reshape(image, [HEIGHT, WIDTH, CHANNELS])\n",
        "    return image\n",
        "\n",
        "\n",
        "def read_tfrecord(example):\n",
        "    \"\"\"Read TFRecord example\"\"\"\n",
        "    tfrecord_format = {\n",
        "        'image_name': tf.io.FixedLenFeature([], tf.string),\n",
        "        'image': tf.io.FixedLenFeature([], tf.string),\n",
        "        'target': tf.io.FixedLenFeature([], tf.string)\n",
        "    }\n",
        "    example = tf.io.parse_single_example(example, tfrecord_format)\n",
        "    image = decode_image(example['image'])\n",
        "    return image\n",
        "\n",
        "\n",
        "def load_dataset(filenames):\n",
        "    \"\"\"Load dataset from TFRecord files\"\"\"\n",
        "    dataset = tf.data.TFRecordDataset(filenames)\n",
        "    dataset = dataset.map(read_tfrecord, num_parallel_calls=AUTO)\n",
        "    return dataset\n"
      ]
    },
    {
      "cell_type": "markdown",
      "metadata": {},
      "source": [
        "## Load Photo Dataset\n"
      ]
    },
    {
      "cell_type": "code",
      "execution_count": null,
      "metadata": {},
      "outputs": [],
      "source": [
        "# Find photo TFRecord files\n",
        "GCS_PATH = \"/kaggle/input/gan-getting-started\"\n",
        "PHOTO_FILENAMES = tf.io.gfile.glob(str(GCS_PATH + '/photo_tfrec/*.tfrec'))\n",
        "\n",
        "# Count and load\n",
        "n_photo_samples = count_data_items(PHOTO_FILENAMES)\n",
        "photo_ds = load_dataset(PHOTO_FILENAMES)\n",
        "\n",
        "print(f\"Found {len(PHOTO_FILENAMES)} photo TFRecord files\")\n",
        "print(f\"Total photo samples: {n_photo_samples}\")\n"
      ]
    },
    {
      "cell_type": "markdown",
      "metadata": {},
      "source": [
        "## Load Trained Model\n"
      ]
    },
    {
      "cell_type": "code",
      "execution_count": null,
      "metadata": {},
      "outputs": [],
      "source": [
        "# Load the trained Monet generator\n",
        "print(f\"Loading model from: {MODEL_PATH}\")\n",
        "try:\n",
        "    loaded_model = tf.keras.models.load_model(MODEL_PATH)\n",
        "    print(\"✓ Model loaded successfully!\")\n",
        "    print(f\"Model input shape: {loaded_model.input_shape}\")\n",
        "    print(f\"Model output shape: {loaded_model.output_shape}\")\n",
        "except Exception as e:\n",
        "    print(f\"✗ Error loading model: {e}\")\n",
        "    print(\"Please check your MODEL_PATH variable\")\n"
      ]
    },
    {
      "cell_type": "markdown",
      "metadata": {},
      "source": [
        "## Generate Monet-Style Images\n"
      ]
    },
    {
      "cell_type": "code",
      "execution_count": null,
      "metadata": {},
      "outputs": [],
      "source": [
        "def predict_and_save(path, input_ds, generator_model):\n",
        "    \"\"\"Generate images and save to disk\"\"\"\n",
        "    i = 1\n",
        "    total = sum(1 for _ in input_ds)\n",
        "    \n",
        "    for img in tqdm(input_ds, total=total, desc=\"Generating images\"):\n",
        "        # Generate prediction\n",
        "        prediction = generator_model(img, training=False)[0].numpy()\n",
        "        \n",
        "        # Rescale from [-1, 1] to [0, 255]\n",
        "        prediction = (prediction * 127.5 + 127.5).astype(np.uint8)\n",
        "        \n",
        "        # Save as JPEG\n",
        "        im = PIL.Image.fromarray(prediction)\n",
        "        im.save(os.path.join(path, \"images\", f\"{i}.jpg\"))\n",
        "        i += 1\n",
        "    \n",
        "    return i - 1\n"
      ]
    },
    {
      "cell_type": "code",
      "execution_count": null,
      "metadata": {},
      "outputs": [],
      "source": [
        "# Create output directory\n",
        "output_dir = \"./images\"\n",
        "os.makedirs(output_dir, exist_ok=True)\n",
        "\n",
        "# Generate images\n",
        "print(\"Starting image generation...\")\n",
        "num_generated = predict_and_save(\n",
        "    path=\"./\",\n",
        "    input_ds=photo_ds.batch(1),\n",
        "    generator_model=loaded_model\n",
        ")\n",
        "\n",
        "print(f\"\\n✓ Generated {num_generated} images\")\n"
      ]
    },
    {
      "cell_type": "markdown",
      "metadata": {},
      "source": [
        "## Create Submission ZIP\n"
      ]
    },
    {
      "cell_type": "code",
      "execution_count": null,
      "metadata": {},
      "outputs": [],
      "source": [
        "# Create ZIP archive\n",
        "images_path = os.path.join(\"./\", 'images')\n",
        "zip_path = shutil.make_archive(images_path, 'zip', images_path)\n",
        "\n",
        "# Print summary\n",
        "num_files = len([name for name in os.listdir(images_path) if os.path.isfile(os.path.join(images_path, name))])\n",
        "zip_size = os.path.getsize(zip_path) / (1024 * 1024)  # Size in MB\n",
        "\n",
        "print(f\"\\n{'='*50}\")\n",
        "print(f\"Submission Summary:\")\n",
        "print(f\"  Generated images: {num_files}\")\n",
        "print(f\"  ZIP file: {zip_path}\")\n",
        "print(f\"  ZIP size: {zip_size:.2f} MB\")\n",
        "print(f\"{'='*50}\")\n",
        "\n",
        "# Validation\n",
        "if num_files < 7000:\n",
        "    print(\"⚠ WARNING: Less than 7000 images generated!\")\n",
        "elif num_files > 10000:\n",
        "    print(\"⚠ WARNING: More than 10000 images generated!\")\n",
        "else:\n",
        "    print(\"✓ Image count is within acceptable range (7000-10000)\")\n"
      ]
    },
    {
      "cell_type": "markdown",
      "metadata": {},
      "source": [
        "## Next Steps\n",
        "\n",
        "1. Download the `images.zip` file\n",
        "2. Upload it to the competition submission page\n",
        "3. Wait for evaluation results\n"
      ]
    }
  ],
  "metadata": {
    "language_info": {
      "name": "python"
    }
  },
  "nbformat": 4,
  "nbformat_minor": 2
}

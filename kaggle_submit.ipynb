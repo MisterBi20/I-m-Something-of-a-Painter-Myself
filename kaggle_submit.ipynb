{
  "cells": [
    {
      "cell_type": "markdown",
      "metadata": {},
      "source": [
        "# Kaggle GAN Getting Started - 提交Notebook\n",
        "\n",
        "本notebook用于在Kaggle平台上生成Monet风格的图像并创建提交文件。\n",
        "\n",
        "## 📋 使用说明\n",
        "\n",
        "1. **上传模型**: 将训练好的模型上传到Kaggle Dataset\n",
        "2. **修改路径**: 更新下面的MODEL_PATH变量\n",
        "3. **运行**: 按顺序运行所有cells\n",
        "4. **下载**: 下载生成的images.zip文件\n",
        "\n",
        "## ⚠️ 重要提示\n",
        "\n",
        "- 确保模型路径正确\n",
        "- 生成的图像数量应该在7000-10000张之间\n",
        "- 图像格式为JPG，尺寸256x256\n"
      ]
    },
    {
      "cell_type": "markdown",
      "metadata": {},
      "source": [
        "## 1. 导入库和设置\n"
      ]
    },
    {
      "cell_type": "code",
      "execution_count": null,
      "metadata": {},
      "outputs": [],
      "source": [
        "# 导入必要的库\n",
        "import numpy as np\n",
        "import pandas as pd\n",
        "import tensorflow as tf\n",
        "import os\n",
        "import re\n",
        "from tqdm import tqdm\n",
        "import PIL\n",
        "import shutil\n",
        "\n",
        "# 设置TensorFlow日志级别\n",
        "os.environ['TF_CPP_MIN_LOG_LEVEL'] = '3'\n",
        "\n",
        "print(f\"TensorFlow版本: {tf.__version__}\")\n",
        "print(f\"GPU可用: {tf.config.list_physical_devices('GPU')}\")\n",
        "\n",
        "# 配置参数\n",
        "HEIGHT, WIDTH, CHANNELS = 256, 256, 3\n",
        "AUTO = tf.data.experimental.AUTOTUNE\n",
        "\n",
        "print(\"✅ 库导入完成\")\n"
      ]
    },
    {
      "cell_type": "markdown",
      "metadata": {},
      "source": [
        "## 2. 配置模型路径\n",
        "\n",
        "**⚠️ 重要：请修改MODEL_PATH为你上传的模型路径！**\n"
      ]
    },
    {
      "cell_type": "code",
      "execution_count": null,
      "metadata": {},
      "outputs": [],
      "source": [
        "# ===== 请修改为你的模型路径 =====\n",
        "MODEL_PATH = \"../input/your-model-dataset/monet_generator.h5\"\n",
        "# =================================\n",
        "\n",
        "print(f\"模型路径: {MODEL_PATH}\")\n",
        "\n",
        "# 检查模型文件是否存在\n",
        "if os.path.exists(MODEL_PATH):\n",
        "    print(\"✅ 模型文件存在\")\n",
        "else:\n",
        "    print(\"❌ 模型文件不存在，请检查路径！\")\n",
        "    print(\"请确保：\")\n",
        "    print(\"1. 已将模型上传到Kaggle Dataset\")\n",
        "    print(\"2. 已正确设置MODEL_PATH变量\")\n",
        "    print(\"3. 模型文件名正确\")\n"
      ]
    },
    {
      "cell_type": "markdown",
      "metadata": {},
      "source": [
        "## 3. 定义辅助函数\n"
      ]
    },
    {
      "cell_type": "code",
      "execution_count": null,
      "metadata": {},
      "outputs": [],
      "source": [
        "def count_data_items(filenames):\n",
        "    \"\"\"计算TFRecord文件中的数据项数量\"\"\"\n",
        "    n = [int(re.compile(r\"-([0-9]*)\\.\").search(filename).group(1)) for filename in filenames]\n",
        "    return np.sum(n)\n",
        "\n",
        "def decode_image(image):\n",
        "    \"\"\"解码JPEG图像并归一化到[-1, 1]\"\"\"\n",
        "    image = tf.image.decode_jpeg(image, channels=CHANNELS)\n",
        "    image = (tf.cast(image, tf.float32) / 127.5) - 1\n",
        "    image = tf.reshape(image, [HEIGHT, WIDTH, CHANNELS])\n",
        "    return image\n",
        "\n",
        "def read_tfrecord(example):\n",
        "    \"\"\"读取TFRecord示例\"\"\"\n",
        "    tfrecord_format = {\n",
        "        'image_name': tf.io.FixedLenFeature([], tf.string),\n",
        "        'image': tf.io.FixedLenFeature([], tf.string),\n",
        "        'target': tf.io.FixedLenFeature([], tf.string)\n",
        "    }\n",
        "    example = tf.io.parse_single_example(example, tfrecord_format)\n",
        "    image = decode_image(example['image'])\n",
        "    return image\n",
        "\n",
        "def load_dataset(filenames):\n",
        "    \"\"\"从TFRecord文件加载数据集\"\"\"\n",
        "    dataset = tf.data.TFRecordDataset(filenames)\n",
        "    dataset = dataset.map(read_tfrecord, num_parallel_calls=AUTO)\n",
        "    return dataset\n",
        "\n",
        "print(\"✅ 辅助函数定义完成\")\n"
      ]
    },
    {
      "cell_type": "markdown",
      "metadata": {},
      "source": [
        "## 4. 加载数据\n"
      ]
    },
    {
      "cell_type": "code",
      "execution_count": null,
      "metadata": {},
      "outputs": [],
      "source": [
        "# 获取数据路径\n",
        "GCS_PATH = \"/kaggle/input/gan-getting-started\"\n",
        "PHOTO_FILENAMES = tf.io.gfile.glob(str(GCS_PATH + '/photo_tfrec/*.tfrec'))\n",
        "\n",
        "# 计算和加载数据\n",
        "n_photo_samples = count_data_items(PHOTO_FILENAMES)\n",
        "photo_ds = load_dataset(PHOTO_FILENAMES)\n",
        "\n",
        "print(f\"找到 {len(PHOTO_FILENAMES)} 个Photo TFRecord文件\")\n",
        "print(f\"总Photo样本数: {n_photo_samples}\")\n",
        "\n",
        "# 配置数据集\n",
        "photo_ds = photo_ds.batch(1)  # 单张图像批次\n",
        "\n",
        "print(\"✅ 数据加载完成\")\n"
      ]
    },
    {
      "cell_type": "markdown",
      "metadata": {},
      "source": [
        "## 5. 加载模型\n"
      ]
    },
    {
      "cell_type": "code",
      "execution_count": null,
      "metadata": {},
      "outputs": [],
      "source": [
        "# 加载训练好的Monet生成器\n",
        "print(f\"正在加载模型: {MODEL_PATH}\")\n",
        "try:\n",
        "    loaded_model = tf.keras.models.load_model(MODEL_PATH)\n",
        "    print(\"✅ 模型加载成功！\")\n",
        "    print(f\"模型输入形状: {loaded_model.input_shape}\")\n",
        "    print(f\"模型输出形状: {loaded_model.output_shape}\")\n",
        "except Exception as e:\n",
        "    print(f\"❌ 模型加载失败: {e}\")\n",
        "    print(\"请检查MODEL_PATH变量是否正确\")\n"
      ]
    },
    {
      "cell_type": "markdown",
      "metadata": {},
      "source": [
        "## 6. 生成Monet风格图像\n"
      ]
    },
    {
      "cell_type": "code",
      "execution_count": null,
      "metadata": {},
      "outputs": [],
      "source": [
        "def predict_and_save(path, input_ds, generator_model):\n",
        "    \"\"\"生成图像并保存到磁盘\"\"\"\n",
        "    i = 1\n",
        "    total = sum(1 for _ in input_ds)\n",
        "    \n",
        "    for img in tqdm(input_ds, total=total, desc=\"生成图像\"):\n",
        "        # 生成预测\n",
        "        prediction = generator_model(img, training=False)[0].numpy()\n",
        "        \n",
        "        # 从[-1, 1]缩放到[0, 255]\n",
        "        prediction = (prediction * 127.5 + 127.5).astype(np.uint8)\n",
        "        \n",
        "        # 保存为JPEG\n",
        "        im = PIL.Image.fromarray(prediction)\n",
        "        im.save(os.path.join(path, \"images\", f\"{i}.jpg\"))\n",
        "        i += 1\n",
        "    \n",
        "    return i - 1\n",
        "\n",
        "# 创建输出目录\n",
        "output_dir = \"./images\"\n",
        "os.makedirs(output_dir, exist_ok=True)\n",
        "\n",
        "# 生成图像\n",
        "print(\"开始生成Monet风格图像...\")\n",
        "num_generated = predict_and_save(\n",
        "    path=\"./\",\n",
        "    input_ds=photo_ds,\n",
        "    generator_model=loaded_model\n",
        ")\n",
        "\n",
        "print(f\"\\n✅ 生成了 {num_generated} 张图像\")\n"
      ]
    },
    {
      "cell_type": "markdown",
      "metadata": {},
      "source": [
        "## 7. 创建提交ZIP文件\n"
      ]
    },
    {
      "cell_type": "code",
      "execution_count": null,
      "metadata": {},
      "outputs": [],
      "source": [
        "# 创建ZIP压缩包\n",
        "images_path = os.path.join(\"./\", 'images')\n",
        "zip_path = shutil.make_archive(images_path, 'zip', images_path)\n",
        "\n",
        "# 统计信息\n",
        "num_files = len([name for name in os.listdir(images_path) if os.path.isfile(os.path.join(images_path, name))])\n",
        "zip_size = os.path.getsize(zip_path) / (1024 * 1024)  # 大小（MB）\n",
        "\n",
        "print(f\"\\n{'='*50}\")\n",
        "print(f\"提交摘要:\")\n",
        "print(f\"  生成图像数: {num_files}\")\n",
        "print(f\"  ZIP文件: {zip_path}\")\n",
        "print(f\"  ZIP大小: {zip_size:.2f} MB\")\n",
        "print(f\"{'='*50}\")\n",
        "\n",
        "# 验证\n",
        "if num_files < 7000:\n",
        "    print(\"⚠️ 警告: 生成图像少于7000张！\")\n",
        "elif num_files > 10000:\n",
        "    print(\"⚠️ 警告: 生成图像超过10000张！\")\n",
        "else:\n",
        "    print(\"✅ 图像数量符合要求 (7000-10000张)\")\n",
        "\n",
        "print(f\"\\n🎉 提交文件已创建: {zip_path}\")\n",
        "print(\"请下载此文件并上传到竞赛页面\")\n"
      ]
    },
    {
      "cell_type": "markdown",
      "metadata": {},
      "source": [
        "## 完成！\n",
        "\n",
        "### 📊 提交总结\n",
        "\n",
        "- ✅ 模型加载成功\n",
        "- ✅ 图像生成完成\n",
        "- ✅ ZIP文件已创建\n",
        "- ✅ 文件数量验证通过\n",
        "\n",
        "### 🎯 下一步\n",
        "\n",
        "1. **下载文件**: 点击左侧文件列表中的 `images.zip`\n",
        "2. **上传提交**: 将ZIP文件上传到竞赛页面\n",
        "3. **等待结果**: 等待Kaggle评估你的提交\n",
        "\n",
        "### 💡 提示\n",
        "\n",
        "- 如果图像数量不符合要求，请检查数据加载是否正确\n",
        "- 如果生成质量不佳，可能需要重新训练模型\n",
        "- 可以尝试不同的模型参数来改善效果\n",
        "\n",
        "**祝你竞赛成功！** 🎨🏆\n"
      ]
    }
  ],
  "metadata": {
    "language_info": {
      "name": "python"
    }
  },
  "nbformat": 4,
  "nbformat_minor": 2
}
